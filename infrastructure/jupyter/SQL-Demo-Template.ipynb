{
 "cells": [
  {
   "cell_type": "markdown",
   "metadata": {},
   "source": [
    "# Enhanced SQL Database Management\n",
    "\n",
    "This notebook demonstrates the enhanced SQL features with pre-configured database connections and SQL templates."
   ]
  },
  {
   "cell_type": "code",
   "execution_count": null,
   "metadata": {},
   "outputs": [],
   "source": [
    "# Load the SQL configuration\n",
    "import sys\n",
    "sys.path.append('/home/jovyan/sql-configs')\n",
    "\n",
    "from sql_connections_template import (\n",
    "    DATABASE_CONNECTIONS, \n",
    "    SQL_TEMPLATES,\n",
    "    list_connections,\n",
    "    get_database_engine,\n",
    "    get_sql_template\n",
    ")"
   ]
  },
  {
   "cell_type": "markdown",
   "metadata": {},
   "source": [
    "## 1. View Available Database Connections"
   ]
  },
  {
   "cell_type": "code",
   "execution_count": null,
   "metadata": {},
   "outputs": [],
   "source": [
    "# Show all pre-configured database connections\n",
    "list_connections()"
   ]
  },
  {
   "cell_type": "markdown",
   "metadata": {},
   "source": [
    "## 2. Connection Selection Dropdown\n",
    "\n",
    "Select your database connection from the dropdown:"
   ]
  },
  {
   "cell_type": "code",
   "execution_count": null,
   "metadata": {},
   "outputs": [],
   "source": [
    "import ipywidgets as widgets\n",
    "from IPython.display import display\n",
    "\n",
    "# Create dropdown for database selection\n",
    "db_dropdown = widgets.Dropdown(\n",
    "    options=[(config['name'], key) for key, config in DATABASE_CONNECTIONS.items()],\n",
    "    description='Database:',\n",
    "    style={'description_width': 'initial'}\n",
    ")\n",
    "\n",
    "display(db_dropdown)"
   ]
  },
  {
   "cell_type": "markdown",
   "metadata": {},
   "source": [
    "## 3. SQL Template Dropdown"
   ]
  },
  {
   "cell_type": "code",
   "execution_count": null,
   "metadata": {},
   "outputs": [],
   "source": [
    "# Create dropdown for SQL templates\n",
    "sql_dropdown = widgets.Dropdown(\n",
    "    options=list(SQL_TEMPLATES.keys()),\n",
    "    description='SQL Template:',\n",
    "    style={'description_width': 'initial'}\n",
    ")\n",
    "\n",
    "# Create text inputs for template parameters\n",
    "table_name_input = widgets.Text(\n",
    "    value='your_table_name',\n",
    "    description='Table Name:',\n",
    "    style={'description_width': 'initial'}\n",
    ")\n",
    "\n",
    "column_name_input = widgets.Text(\n",
    "    value='your_column_name',\n",
    "    description='Column Name:',\n",
    "    style={'description_width': 'initial'}\n",
    ")\n",
    "\n",
    "display(sql_dropdown, table_name_input, column_name_input)"
   ]
  },
  {
   "cell_type": "markdown",
   "metadata": {},
   "source": [
    "## 4. Generate SQL Query"
   ]
  },
  {
   "cell_type": "code",
   "execution_count": null,
   "metadata": {},
   "outputs": [],
   "source": [
    "# Generate SQL based on selections\n",
    "def generate_sql():\n",
    "    template_name = sql_dropdown.value\n",
    "    table_name = table_name_input.value\n",
    "    column_name = column_name_input.value\n",
    "    \n",
    "    try:\n",
    "        query = get_sql_template(\n",
    "            template_name,\n",
    "            table_name=table_name,\n",
    "            column_name=column_name,\n",
    "            date_column=column_name\n",
    "        )\n",
    "        print(\"Generated SQL:\")\n",
    "        print(\"=\" * 50)\n",
    "        print(query)\n",
    "        return query\n",
    "    except Exception as e:\n",
    "        print(f\"Error generating SQL: {e}\")\n",
    "        return None\n",
    "\n",
    "# Button to generate SQL\n",
    "generate_button = widgets.Button(description=\"Generate SQL\")\n",
    "generate_button.on_click(lambda x: generate_sql())\n",
    "\n",
    "display(generate_button)"
   ]
  },
  {
   "cell_type": "markdown",
   "metadata": {},
   "source": [
    "## 5. Connect to Selected Database"
   ]
  },
  {
   "cell_type": "code",
   "execution_count": null,
   "metadata": {},
   "outputs": [],
   "source": [
    "# Load SQL extension\n",
    "%load_ext sql\n",
    "\n",
    "# Connect to selected database\n",
    "selected_db = db_dropdown.value\n",
    "connection_string = DATABASE_CONNECTIONS[selected_db]['connection_string']\n",
    "\n",
    "print(f\"Connecting to: {DATABASE_CONNECTIONS[selected_db]['name']}\")\n",
    "print(f\"Description: {DATABASE_CONNECTIONS[selected_db]['description']}\")\n",
    "\n",
    "# Note: Update the connection string with real credentials before using\n",
    "%sql $connection_string"
   ]
  },
  {
   "cell_type": "markdown",
   "metadata": {},
   "source": [
    "## 6. Execute SQL Queries\n",
    "\n",
    "Now you can run SQL queries using the `%%sql` magic command:"
   ]
  },
  {
   "cell_type": "code",
   "execution_count": null,
   "metadata": {},
   "outputs": [],
   "source": [
    "%%sql\n",
    "-- Example: List all tables (works for most databases)\n",
    "SELECT table_name FROM information_schema.tables \n",
    "WHERE table_schema NOT IN ('information_schema', 'pg_catalog')\n",
    "LIMIT 10;"
   ]
  },
  {
   "cell_type": "markdown",
   "metadata": {},
   "source": [
    "## 7. Using JupySQL for Advanced Features"
   ]
  },
  {
   "cell_type": "code",
   "execution_count": null,
   "metadata": {},
   "outputs": [],
   "source": [
    "# JupySQL provides enhanced SQL capabilities\n",
    "import jupysql\n",
    "\n",
    "# Enable JupySQL\n",
    "%config SqlMagic.autopandas = True\n",
    "%config SqlMagic.feedback = False\n",
    "%config SqlMagic.displaycon = False\n",
    "\n",
    "print(\"JupySQL enabled with pandas integration!\")"
   ]
  },
  {
   "cell_type": "markdown",
   "metadata": {},
   "source": [
    "## 8. Quick Connection Switcher"
   ]
  },
  {
   "cell_type": "code",
   "execution_count": null,
   "metadata": {},
   "outputs": [],
   "source": [
    "# Quick function to switch between databases\n",
    "def switch_database(db_key):\n",
    "    if db_key in DATABASE_CONNECTIONS:\n",
    "        config = DATABASE_CONNECTIONS[db_key]\n",
    "        print(f\"Switching to: {config['name']}\")\n",
    "        %sql $config['connection_string']\n",
    "    else:\n",
    "        print(f\"Unknown database: {db_key}\")\n",
    "        print(f\"Available: {list(DATABASE_CONNECTIONS.keys())}\")\n",
    "\n",
    "# Example usage:\n",
    "# switch_database('duckdb_memory')\n",
    "# switch_database('local_postgres')"
   ]
  }
 ],
 "metadata": {
  "kernelspec": {
   "display_name": "Python 3",
   "language": "python",
   "name": "python3"
  },
  "language_info": {
   "codemirror_mode": {
    "name": "ipython",
    "version": 3
   },
   "file_extension": ".py",
   "mimetype": "text/x-python",
   "name": "python",
   "nbconvert_exporter": "python",
   "pygments_lexer": "ipython3",
   "version": "3.11.0"
  }
 },
 "nbformat": 4,
 "nbformat_minor": 4
}